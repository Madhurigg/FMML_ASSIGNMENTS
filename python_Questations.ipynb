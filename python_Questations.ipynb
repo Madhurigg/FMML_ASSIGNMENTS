{
  "nbformat": 4,
  "nbformat_minor": 0,
  "metadata": {
    "colab": {
      "provenance": [],
      "authorship_tag": "ABX9TyN+MvZnaXOblK0pHHJz61nK",
      "include_colab_link": true
    },
    "kernelspec": {
      "name": "python3",
      "display_name": "Python 3"
    },
    "language_info": {
      "name": "python"
    }
  },
  "cells": [
    {
      "cell_type": "markdown",
      "metadata": {
        "id": "view-in-github",
        "colab_type": "text"
      },
      "source": [
        "<a href=\"https://colab.research.google.com/github/Madhurigg/FMML_ASSIGNMENTS/blob/main/python_Questations.ipynb\" target=\"_parent\"><img src=\"https://colab.research.google.com/assets/colab-badge.svg\" alt=\"Open In Colab\"/></a>"
      ]
    },
    {
      "cell_type": "code",
      "execution_count": 2,
      "metadata": {
        "colab": {
          "base_uri": "https://localhost:8080/"
        },
        "id": "0n_rktvYb1ge",
        "outputId": "1714feeb-7c29-4d21-8b5c-ba154da72b26"
      },
      "outputs": [
        {
          "output_type": "stream",
          "name": "stdout",
          "text": [
            "Enter a string: character\n",
            "Enter the character to count: 1\n",
            "The character '1' occurs 0 times in the string.\n"
          ]
        }
      ],
      "source": [
        "def count_characters(string, char):\n",
        "    count = 0\n",
        "    for c in string:\n",
        "        if c == char:\n",
        "            count += 1\n",
        "    return count\n",
        "\n",
        "def main():\n",
        "    user_input = input(\"Enter a string: \")\n",
        "    character_to_count = input(\"Enter the character to count: \")\n",
        "\n",
        "    occurrences = count_characters(user_input, character_to_count)\n",
        "    print(f\"The character '{character_to_count}' occurs {occurrences} times in the string.\")\n",
        "\n",
        "if __name__ == \"__main__\":\n",
        "    main()def reverse_string(string)\n",
        "\n"
      ]
    },
    {
      "cell_type": "code",
      "source": [
        "def reverse_string(string):\n",
        "    return string[::-1]\n",
        "\n",
        "# Test the function\n",
        "input_string = input(\"Enter a string: \")\n",
        "reversed_string = reverse_string(input_string)\n",
        "print(\"Reversed string:\", reversed_string)\n"
      ],
      "metadata": {
        "colab": {
          "base_uri": "https://localhost:8080/"
        },
        "id": "GkCXbcnMcyBm",
        "outputId": "4613347a-955e-43e0-9980-516cceab7546"
      },
      "execution_count": 3,
      "outputs": [
        {
          "output_type": "stream",
          "name": "stdout",
          "text": [
            "Enter a string: float\n",
            "Reversed string: taolf\n"
          ]
        }
      ]
    },
    {
      "cell_type": "code",
      "source": [
        "def is_palindrome(string):\n",
        "    # Convert the string to lowercase and remove non-alphanumeric characters\n",
        "    cleaned_string = ''.join(char.lower() for char in string if char.isalnum())\n",
        "    # Compare the cleaned string with its reverse\n",
        "    return cleaned_string == cleaned_string[::-1]\n",
        "\n",
        "# Test the function\n",
        "input_string = input(\"Enter a string: \")\n",
        "if is_palindrome(input_string):\n",
        "    print(\"The string is a palindrome.\")\n",
        "else:\n",
        "    print(\"The string is not a palindrome.\")\n"
      ],
      "metadata": {
        "colab": {
          "base_uri": "https://localhost:8080/"
        },
        "id": "Lq7u6tiigwF5",
        "outputId": "02c7eb6d-ff2d-4d77-c8b7-fcda3647db6f"
      },
      "execution_count": 4,
      "outputs": [
        {
          "output_type": "stream",
          "name": "stdout",
          "text": [
            "Enter a string: tire\n",
            "The string is not a palindrome.\n"
          ]
        }
      ]
    },
    {
      "cell_type": "code",
      "source": [
        "def convert_case(string):\n",
        "    upper_case = string.upper()\n",
        "    lower_case = string.lower()\n",
        "    title_case = string.title()\n",
        "\n",
        "    return upper_case, lower_case, title_case\n",
        "\n",
        "def main():\n",
        "    user_input = input(\"Enter a string: \")\n",
        "\n",
        "    upper_case, lower_case, title_case = convert_case(user_input)\n",
        "\n",
        "    print(\"Original string:\", user_input)\n",
        "    print(\"Uppercase:\", upper_case)\n",
        "    print(\"Lowercase:\", lower_case)\n",
        "    print(\"Title case:\", title_case)\n",
        "\n",
        "if __name__ == \"__main__\":\n",
        "    main()\n"
      ],
      "metadata": {
        "colab": {
          "base_uri": "https://localhost:8080/"
        },
        "id": "DkZaLa-hhaXg",
        "outputId": "46ee6b16-f16a-40b4-8831-0a5eb15845a9"
      },
      "execution_count": 5,
      "outputs": [
        {
          "output_type": "stream",
          "name": "stdout",
          "text": [
            "Enter a string: madhu\n",
            "Original string: madhu\n",
            "Uppercase: MADHU\n",
            "Lowercase: madhu\n",
            "Title case: Madhu\n"
          ]
        }
      ]
    },
    {
      "cell_type": "code",
      "source": [
        "def reverse_list(input_list):\n",
        "    input_list.reverse()\n",
        "    return input_list\n",
        "\n",
        "def main():\n",
        "    user_input = input(\"Enter elements of the list separated by spaces: \")\n",
        "    input_list = user_input.split()\n",
        "\n",
        "    reversed_list = reverse_list(input_list)\n",
        "\n",
        "    print(\"Original list:\", input_list)\n",
        "    print(\"Reversed list:\", reversed_list)\n",
        "\n",
        "if __name__ == \"__main__\":\n",
        "    main()\n"
      ],
      "metadata": {
        "colab": {
          "base_uri": "https://localhost:8080/"
        },
        "id": "YZ7tBbZOiaLQ",
        "outputId": "1324365f-ad62-4450-e4b9-72e330cb1348"
      },
      "execution_count": 6,
      "outputs": [
        {
          "output_type": "stream",
          "name": "stdout",
          "text": [
            "Enter elements of the list separated by spaces: sai\n",
            "Original list: ['sai']\n",
            "Reversed list: ['sai']\n"
          ]
        }
      ]
    },
    {
      "cell_type": "code",
      "source": [
        "def count_occurrences(input_list, element):\n",
        "    return input_list.count(element)\n",
        "\n",
        "def main():\n",
        "    user_input = input(\"Enter elements of the list separated by spaces: \")\n",
        "    input_list = user_input.split()\n",
        "\n",
        "    element_to_count = input(\"Enter the element to count: \")\n",
        "\n",
        "    occurrences = count_occurrences(input_list, element_to_count)\n",
        "\n",
        "    print(f\"The element '{element_to_count}' occurs {occurrences} times in the list.\")\n",
        "\n",
        "if __name__ == \"__main__\":\n",
        "    main()\n",
        "\n"
      ],
      "metadata": {
        "colab": {
          "base_uri": "https://localhost:8080/"
        },
        "id": "-KOz-bdmjASe",
        "outputId": "7910bdea-0874-4b39-9dda-2bc5d018568b"
      },
      "execution_count": 7,
      "outputs": [
        {
          "output_type": "stream",
          "name": "stdout",
          "text": [
            "Enter the element to count: diya\n",
            "The element 'diya' occurs 1 times in the list.\n"
          ]
        }
      ]
    },
    {
      "cell_type": "code",
      "source": [
        "def count_occurrences(input_list, element):\n",
        "    return input_list.count(element)\n",
        "\n",
        "def main():\n",
        "    user_input = input(\"Enter elements of the list separated by spaces: \")\n",
        "    input_list = user_input.split()\n",
        "\n",
        "    element_to_count = input(\"Enter the element to count: \")\n",
        "\n",
        "    occurrences = count_occurrences(input_list, element_to_count)\n",
        "\n",
        "    print(f\"The element '{element_to_count}' occurs {occurrences} times in the list.\")\n",
        "\n",
        "if __name__ == \"__main__\":\n",
        "    main()\n"
      ],
      "metadata": {
        "colab": {
          "base_uri": "https://localhost:8080/"
        },
        "id": "gf-hbnH1j7u-",
        "outputId": "ffe7e8f6-3920-4fcb-98d9-9dea93cf0dcd"
      },
      "execution_count": 8,
      "outputs": [
        {
          "output_type": "stream",
          "name": "stdout",
          "text": [
            "Enter elements of the list separated by spaces: satya\n",
            "Enter the element to count: 5\n",
            "The element '5' occurs 0 times in the list.\n"
          ]
        }
      ]
    },
    {
      "cell_type": "code",
      "source": [
        "def join_words(word_list):\n",
        "    return ' '.join(word_list)\n",
        "\n",
        "def main():\n",
        "    user_input = input(\"Enter words separated by spaces: \")\n",
        "    word_list = user_input.split()\n",
        "\n",
        "    joined_string = join_words(word_list)\n",
        "\n",
        "    print(\"Original list of words:\", word_list)\n",
        "    print(\"Joined string:\", joined_string)\n",
        "\n",
        "if __name__ == \"__main__\":\n",
        "    main()\n",
        "\n"
      ],
      "metadata": {
        "colab": {
          "base_uri": "https://localhost:8080/"
        },
        "id": "-rtHLY9CkwX2",
        "outputId": "ea1a4dbe-6cb2-499e-e4d7-fa13023ee438"
      },
      "execution_count": 9,
      "outputs": [
        {
          "output_type": "stream",
          "name": "stdout",
          "text": [
            "Enter words separated by spaces: kiet\n",
            "Original list of words: ['kiet']\n",
            "Joined string: kiet\n"
          ]
        }
      ]
    },
    {
      "cell_type": "code",
      "source": [
        "def count_characters_after_stripping(input_string):\n",
        "    cleaned_string = input_string.strip()\n",
        "    return len(cleaned_string)\n",
        "\n",
        "def main():\n",
        "    user_input = input(\"Enter a string: \")\n",
        "\n",
        "    character_count = count_characters_after_stripping(user_input)\n",
        "\n",
        "    print(\"Original string:\", user_input)\n",
        "    print(\"Number of characters after stripping whitespace:\", character_count)\n",
        "\n",
        "if __name__ == \"__main__\":\n",
        "    main()\n"
      ],
      "metadata": {
        "colab": {
          "base_uri": "https://localhost:8080/"
        },
        "id": "9oahE3qOlWWA",
        "outputId": "823551dd-cd96-445f-8c28-1a1cd0af2b7f"
      },
      "execution_count": 10,
      "outputs": [
        {
          "output_type": "stream",
          "name": "stdout",
          "text": [
            "Enter a string: pandu\n",
            "Original string: pandu\n",
            "Number of characters after stripping whitespace: 5\n"
          ]
        }
      ]
    },
    {
      "cell_type": "code",
      "source": [
        "def check_prefix(string, prefix):\n",
        "    return string.startswith(prefix)\n",
        "\n",
        "def check_suffix(string, suffix):\n",
        "    return string.endswith(suffix)\n",
        "\n",
        "def main():\n",
        "    user_input = input(\"Enter a string: \")\n",
        "    prefix = input(\"Enter a prefix to check: \")\n",
        "    suffix = input(\"Enter a suffix to check: \")\n",
        "\n",
        "    if check_prefix(user_input, prefix):\n",
        "        print(f\"The string '{user_input}' starts with the prefix '{prefix}'.\")\n",
        "    else:\n",
        "        print(f\"The string '{user_input}' does not start with the prefix '{prefix}'.\")\n",
        "\n",
        "    if check_suffix(user_input, suffix):\n",
        "        print(f\"The string '{user_input}' ends with the suffix '{suffix}'.\")\n",
        "    else:\n",
        "        print(f\"The string '{user_input}' does not end with the suffix '{suffix}'.\")\n",
        "\n",
        "if __name__ == \"__main__\":\n",
        "    main()\n",
        "\n"
      ],
      "metadata": {
        "colab": {
          "base_uri": "https://localhost:8080/"
        },
        "id": "w-CbU-gdl1iQ",
        "outputId": "d15172cc-d1b8-44f0-8187-1b1f5389b05b"
      },
      "execution_count": 11,
      "outputs": [
        {
          "output_type": "stream",
          "name": "stdout",
          "text": [
            "Enter a string: input\n",
            "Enter a prefix to check: input\n",
            "Enter a suffix to check: output\n",
            "The string 'input' starts with the prefix 'input'.\n",
            "The string 'input' does not end with the suffix 'output'.\n"
          ]
        }
      ]
    },
    {
      "cell_type": "code",
      "source": [],
      "metadata": {
        "id": "fMlnNsXGmyfW"
      },
      "execution_count": null,
      "outputs": []
    }
  ]
}