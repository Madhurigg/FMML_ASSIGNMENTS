{
  "nbformat": 4,
  "nbformat_minor": 0,
  "metadata": {
    "colab": {
      "provenance": [],
      "authorship_tag": "ABX9TyOITwHsrmUgpakIzFsIUtZd",
      "include_colab_link": true
    },
    "kernelspec": {
      "name": "python3",
      "display_name": "Python 3"
    },
    "language_info": {
      "name": "python"
    }
  },
  "cells": [
    {
      "cell_type": "markdown",
      "metadata": {
        "id": "view-in-github",
        "colab_type": "text"
      },
      "source": [
        "<a href=\"https://colab.research.google.com/github/Madhurigg/FMML_ASSIGNMENTS/blob/main/list_methods.ipynb\" target=\"_parent\"><img src=\"https://colab.research.google.com/assets/colab-badge.svg\" alt=\"Open In Colab\"/></a>"
      ]
    },
    {
      "cell_type": "code",
      "execution_count": null,
      "metadata": {
        "colab": {
          "base_uri": "https://localhost:8080/"
        },
        "id": "6gF-AZHaafc6",
        "outputId": "962e695a-2c3e-4a46-85a9-655896b3f0ec"
      },
      "outputs": [
        {
          "output_type": "stream",
          "name": "stdout",
          "text": [
            "Maximum value: 9\n",
            "Minimum value: 1\n"
          ]
        }
      ],
      "source": [
        "def find_max_min(numbers):\n",
        "    if not numbers:\n",
        "        return None, None  # return None for both max and min if the list is empty\n",
        "    else:\n",
        "        maximum = max(numbers)\n",
        "        minimum = min(numbers)\n",
        "        return maximum, minimum\n",
        "\n",
        "# Example usage:\n",
        "numbers = [3, 1, 4, 1, 5, 9, 2, 6, 5, 3]\n",
        "max_value, min_value = find_max_min(numbers)\n",
        "print(\"Maximum value:\", max_value)\n",
        "print(\"Minimum value:\", min_value)"
      ]
    },
    {
      "cell_type": "code",
      "source": [
        "def calculate_sum_and_average(numbers):\n",
        "    if not numbers:\n",
        "        return None, None  # return None for both sum and average if the list is empty\n",
        "    else:\n",
        "        total_sum = sum(numbers)\n",
        "        average = total_sum / len(numbers)\n",
        "        return total_sum, average\n",
        "\n",
        "# Example usage:\n",
        "numbers = [3, 1, 4, 1, 5, 9, 2, 6, 5, 3]\n",
        "total_sum, average = calculate_sum_and_average(numbers)\n",
        "print(\"Sum of all numbers:\", total_sum)\n",
        "print(\"Average of all numbers:\", average)"
      ],
      "metadata": {
        "colab": {
          "base_uri": "https://localhost:8080/"
        },
        "id": "e7oMq8DmeeEp",
        "outputId": "bb3bd704-5db2-4db5-f2aa-9655237979e3"
      },
      "execution_count": null,
      "outputs": [
        {
          "output_type": "stream",
          "name": "stdout",
          "text": [
            "Sum of all numbers: 39\n",
            "Average of all numbers: 3.9\n"
          ]
        }
      ]
    },
    {
      "cell_type": "code",
      "source": [
        "def sort_list(numbers):\n",
        "    if not numbers:\n",
        "        return None, None  # return None for both ascending and descending sorted lists if the input list is empty\n",
        "    else:\n",
        "        ascending_sorted = sorted(numbers)\n",
        "        descending_sorted = sorted(numbers, reverse=True)\n",
        "        return ascending_sorted, descending_sorted\n",
        "\n",
        "# Example usage:\n",
        "numbers = [3, 1, 4, 1, 5, 9, 2, 6, 5, 3]\n",
        "ascending_sorted, descending_sorted = sort_list(numbers)\n",
        "print(\"Ascending order:\", ascending_sorted)\n",
        "print(\"Descending order:\", descending_sorted)\n"
      ],
      "metadata": {
        "colab": {
          "base_uri": "https://localhost:8080/"
        },
        "id": "Cdufrp-we5Qy",
        "outputId": "bebd2a07-1c85-485c-a659-04463beccc35"
      },
      "execution_count": null,
      "outputs": [
        {
          "output_type": "stream",
          "name": "stdout",
          "text": [
            "Ascending order: [1, 1, 2, 3, 3, 4, 5, 5, 6, 9]\n",
            "Descending order: [9, 6, 5, 5, 4, 3, 3, 2, 1, 1]\n"
          ]
        }
      ]
    },
    {
      "cell_type": "code",
      "source": [
        "def reverse_list(input_list):\n",
        "    input_list.reverse()\n",
        "    return input_list\n",
        "\n",
        "# Example usage:\n",
        "my_list = [1, 2, 3, 4, 5]\n",
        "reversed_list = reverse_list(my_list)\n",
        "print(\"Reversed list:\", reversed_list)\n"
      ],
      "metadata": {
        "colab": {
          "base_uri": "https://localhost:8080/"
        },
        "id": "U8_KFx98geU9",
        "outputId": "53fe4f41-7484-4fbb-f060-bf49b5cf9496"
      },
      "execution_count": null,
      "outputs": [
        {
          "output_type": "stream",
          "name": "stdout",
          "text": [
            "Reversed list: [5, 4, 3, 2, 1]\n"
          ]
        }
      ]
    },
    {
      "cell_type": "code",
      "source": [
        "def count_occurrences(input_list, element):\n",
        "    return input_list.count(element)\n",
        "\n",
        "# Example usage:\n",
        "my_list = [1, 2, 3, 4, 1, 2, 1, 3, 4, 5]\n",
        "specific_element = 1\n",
        "occurrences = count_occurrences(my_list, specific_element)\n",
        "print(f\"The element {specific_element} occurs {occurrences} times in the list.\")\n"
      ],
      "metadata": {
        "colab": {
          "base_uri": "https://localhost:8080/"
        },
        "id": "S-WR97sqhvcv",
        "outputId": "8f1a4156-a631-4098-e882-0970c0f5da87"
      },
      "execution_count": null,
      "outputs": [
        {
          "output_type": "stream",
          "name": "stdout",
          "text": [
            "The element 1 occurs 3 times in the list.\n"
          ]
        }
      ]
    },
    {
      "cell_type": "code",
      "source": [
        "def remove_duplicates(input_list):\n",
        "    seen = set()\n",
        "    output_list = []\n",
        "    for item in input_list:\n",
        "        if item not in seen:\n",
        "            output_list.append(item)\n",
        "            seen.add(item)\n",
        "    return output_list\n",
        "\n",
        "# Example usage:\n",
        "my_list = [1, 2, 3, 1, 2, 4, 5, 3, 6]\n",
        "result = remove_duplicates(my_list)\n",
        "print(\"List after removing duplicates:\", result)\n"
      ],
      "metadata": {
        "colab": {
          "base_uri": "https://localhost:8080/"
        },
        "id": "qLNlG_qCiRYb",
        "outputId": "0602261b-14af-4ba4-f607-2a6bdfe99ec1"
      },
      "execution_count": null,
      "outputs": [
        {
          "output_type": "stream",
          "name": "stdout",
          "text": [
            "List after removing duplicates: [1, 2, 3, 4, 5, 6]\n"
          ]
        }
      ]
    },
    {
      "cell_type": "code",
      "source": [
        "def combine_lists(list1, list2):\n",
        "    combined_list = list1 + list2\n",
        "    return combined_list\n",
        "\n",
        "# Example usage:\n",
        "list1 = [1, 2, 3]\n",
        "list2 = [4, 5, 6]\n",
        "combined_list = combine_lists(list1, list2)\n",
        "print(\"Combined list:\", combined_list)\n"
      ],
      "metadata": {
        "colab": {
          "base_uri": "https://localhost:8080/"
        },
        "id": "klkCbLcYjOL7",
        "outputId": "06345f41-1751-4113-f296-67e271b40a26"
      },
      "execution_count": null,
      "outputs": [
        {
          "output_type": "stream",
          "name": "stdout",
          "text": [
            "Combined list: [1, 2, 3, 4, 5, 6]\n"
          ]
        }
      ]
    },
    {
      "cell_type": "code",
      "source": [
        "def split_list(input_list):\n",
        "    even_indexed = input_list[::2]  # Selecting elements at even indices\n",
        "    odd_indexed = input_list[1::2]  # Selecting elements at odd indices\n",
        "    return even_indexed, odd_indexed\n",
        "\n",
        "# Example usage:\n",
        "my_list = [1, 2, 3, 4, 5, 6, 7, 8, 9, 10]\n",
        "even_indexed, odd_indexed = split_list(my_list)\n",
        "print(\"Even-indexed elements:\", even_indexed)\n",
        "print(\"Odd-indexed elements:\", odd_indexed)\n"
      ],
      "metadata": {
        "colab": {
          "base_uri": "https://localhost:8080/"
        },
        "id": "EVH2Fyw-ksLJ",
        "outputId": "d0af005b-e557-458a-fc17-aab09712105d"
      },
      "execution_count": null,
      "outputs": [
        {
          "output_type": "stream",
          "name": "stdout",
          "text": [
            "Even-indexed elements: [1, 3, 5, 7, 9]\n",
            "Odd-indexed elements: [2, 4, 6, 8, 10]\n"
          ]
        }
      ]
    },
    {
      "cell_type": "code",
      "source": [
        "def find_index(input_list, target):\n",
        "    try:\n",
        "        index = input_list.index(target)\n",
        "        return index\n",
        "    except ValueError:\n",
        "        return None  # If target element is not found in the list\n",
        "\n",
        "# Example usage:\n",
        "my_list = [1, 2, 3, 4, 5, 6, 7, 8, 9, 10]\n",
        "target_element = 5\n",
        "index = find_index(my_list, target_element)\n",
        "if index is not None:\n",
        "    print(f\"The index of the first occurrence of {target_element} is: {index}\")\n",
        "else:\n",
        "    print(f\"The element {target_element} is not found in the list.\")\n"
      ],
      "metadata": {
        "colab": {
          "base_uri": "https://localhost:8080/"
        },
        "id": "HM3VAprLlPGc",
        "outputId": "8227d47d-987c-464e-a84f-f4994f5c2502"
      },
      "execution_count": null,
      "outputs": [
        {
          "output_type": "stream",
          "name": "stdout",
          "text": [
            "The index of the first occurrence of 5 is: 4\n"
          ]
        }
      ]
    },
    {
      "cell_type": "code",
      "source": [
        "def check_membership(input_list, target):\n",
        "    return target in input_list\n",
        "\n",
        "# Example usage:\n",
        "my_list = [1, 2, 3, 4, 5]\n",
        "target_element = 3\n",
        "if check_membership(my_list, target_element):\n",
        "    print(f\"The element {target_element} is present in the list.\")\n",
        "else:\n",
        "    print(f\"The element {target_element} is not present in the list.\")\n"
      ],
      "metadata": {
        "colab": {
          "base_uri": "https://localhost:8080/"
        },
        "id": "nLhxMnzVmMlM",
        "outputId": "8768313b-215f-4e55-c77d-c72cac90ffb0"
      },
      "execution_count": null,
      "outputs": [
        {
          "output_type": "stream",
          "name": "stdout",
          "text": [
            "The element 3 is present in the list.\n"
          ]
        }
      ]
    },
    {
      "cell_type": "code",
      "source": [
        "def find_common_elements(list1, list2):\n",
        "    set1 = set(list1)\n",
        "    set2 = set(list2)\n",
        "    common_elements = list(set1.intersection(set2))\n",
        "    return common_elements\n",
        "\n",
        "# Example usage:\n",
        "list1 = [1, 2, 3, 4, 5]\n",
        "list2 = [4, 5, 6, 7, 8]\n",
        "common_elements = find_common_elements(list1, list2)\n",
        "print(\"Common elements:\", common_elements)\n"
      ],
      "metadata": {
        "colab": {
          "base_uri": "https://localhost:8080/"
        },
        "id": "pR7HSkVRmj8j",
        "outputId": "9f6c4861-6ec8-4d51-ff97-2fbef19f1583"
      },
      "execution_count": null,
      "outputs": [
        {
          "output_type": "stream",
          "name": "stdout",
          "text": [
            "Common elements: [4, 5]\n"
          ]
        }
      ]
    },
    {
      "cell_type": "code",
      "source": [
        "def merge_lists(list1, list2):\n",
        "    merged_list = list(zip(list1, list2))\n",
        "    return merged_list\n",
        "\n",
        "# Example usage:\n",
        "list1 = [1, 2, 3, 4]\n",
        "list2 = ['a', 'b', 'c', 'd']\n",
        "merged_list = merge_lists(list1, list2)\n",
        "print(\"Merged list of tuples:\", merged_list)\n"
      ],
      "metadata": {
        "colab": {
          "base_uri": "https://localhost:8080/"
        },
        "id": "J8AgL0Bem6OG",
        "outputId": "760a07d7-53ec-4452-e9ca-953328d5f74a"
      },
      "execution_count": null,
      "outputs": [
        {
          "output_type": "stream",
          "name": "stdout",
          "text": [
            "Merged list of tuples: [(1, 'a'), (2, 'b'), (3, 'c'), (4, 'd')]\n"
          ]
        }
      ]
    },
    {
      "cell_type": "code",
      "source": [
        "def split_string_to_list(input_string):\n",
        "    return input_string.split(',')\n",
        "\n",
        "# Example usage:\n",
        "input_string = \"apple,banana,orange,grape\"\n",
        "result_list = split_string_to_list(input_string)\n",
        "print(\"List of individual elements:\", result_list)\n"
      ],
      "metadata": {
        "colab": {
          "base_uri": "https://localhost:8080/"
        },
        "id": "biZmt3pYngml",
        "outputId": "0d171a9c-80c5-4f84-ed9a-6370e0da478f"
      },
      "execution_count": null,
      "outputs": [
        {
          "output_type": "stream",
          "name": "stdout",
          "text": [
            "List of individual elements: ['apple', 'banana', 'orange', 'grape']\n"
          ]
        }
      ]
    },
    {
      "cell_type": "code",
      "source": [
        "def check_list_equality(list1, list2):\n",
        "    return list1 == list2\n",
        "\n",
        "# Example usage:\n",
        "list1 = [1, 2, 3, 4]\n",
        "list2 = [1, 2, 3, 4]\n",
        "\n",
        "if check_list_equality(list1, list2):\n",
        "    print(\"The lists are equal.\")\n",
        "else:\n",
        "    print(\"The lists are not equal.\")\n"
      ],
      "metadata": {
        "colab": {
          "base_uri": "https://localhost:8080/"
        },
        "id": "O4ASP4U8nt90",
        "outputId": "7416c4f2-c493-47e9-8dda-cbe63b71b06b"
      },
      "execution_count": null,
      "outputs": [
        {
          "output_type": "stream",
          "name": "stdout",
          "text": [
            "The lists are equal.\n"
          ]
        }
      ]
    },
    {
      "cell_type": "code",
      "source": [
        "def shallow_copy_using_slicing(input_list):\n",
        "    return input_list[:]\n",
        "\n",
        "# Example usage:\n",
        "original_list = [1, 2, 3, 4]\n",
        "copied_list = shallow_copy_using_slicing(original_list)\n",
        "print(\"Original list:\", original_list)\n",
        "print(\"Copied list using slicing:\", copied_list)\n"
      ],
      "metadata": {
        "colab": {
          "base_uri": "https://localhost:8080/"
        },
        "id": "cPU7wutBnzqQ",
        "outputId": "74f66160-c385-4c89-e115-ae48fc5a1c3e"
      },
      "execution_count": null,
      "outputs": [
        {
          "output_type": "stream",
          "name": "stdout",
          "text": [
            "Original list: [1, 2, 3, 4]\n",
            "Copied list using slicing: [1, 2, 3, 4]\n"
          ]
        }
      ]
    },
    {
      "cell_type": "code",
      "source": [
        "def shallow_copy_using_copy_method(input_list):\n",
        "    return input_list.copy()\n",
        "\n",
        "def shallow_copy_using_slicing(input_list):\n",
        "    return input_list[:]\n",
        "\n",
        "# Example usage:\n",
        "original_list = [1, 2, 3, 4]\n",
        "\n",
        "# Using the copy() method\n",
        "copied_list_1 = shallow_copy_using_copy_method(original_list)\n",
        "print(\"Copied list using copy() method:\", copied_list_1)\n",
        "\n",
        "# Using the slicing technique\n",
        "copied_list_2 = shallow_copy_using_slicing(original_list)\n",
        "print(\"Copied list using slicing technique:\", copied_list_2)\n"
      ],
      "metadata": {
        "colab": {
          "base_uri": "https://localhost:8080/"
        },
        "id": "Ror75Nqhowfc",
        "outputId": "b68432b9-0615-4d4d-f787-519f29d24d78"
      },
      "execution_count": null,
      "outputs": [
        {
          "output_type": "stream",
          "name": "stdout",
          "text": [
            "Copied list using copy() method: [1, 2, 3, 4]\n",
            "Copied list using slicing technique: [1, 2, 3, 4]\n"
          ]
        }
      ]
    },
    {
      "cell_type": "code",
      "source": [
        "def is_sublist(list1, list2):\n",
        "    len_list2 = len(list2)\n",
        "    for i in range(len(list1) - len_list2 + 1):\n",
        "        if list1[i:i+len_list2] == list2:\n",
        "            return True\n",
        "    return False\n",
        "\n",
        "# Example usage:\n",
        "list1 = [1, 2, 3, 4, 5, 6, 7]\n",
        "list2 = [3, 4, 5]\n",
        "if is_sublist(list1, list2):\n",
        "    print(\"The second list is a sublist of the first list.\")\n",
        "else:\n",
        "    print(\"The second list is not a sublist of the first list.\")\n"
      ],
      "metadata": {
        "colab": {
          "base_uri": "https://localhost:8080/"
        },
        "id": "NF4vIohHqWG3",
        "outputId": "adc96e86-c6a5-45dd-fed6-4821a51fa649"
      },
      "execution_count": null,
      "outputs": [
        {
          "output_type": "stream",
          "name": "stdout",
          "text": [
            "The second list is a sublist of the first list.\n"
          ]
        }
      ]
    },
    {
      "cell_type": "code",
      "source": [
        "def join_strings(input_list, delimiter):\n",
        "    return delimiter.join(input_list)\n",
        "\n",
        "# Example usage:\n",
        "string_list = [\"apple\", \"banana\", \"orange\", \"grape\"]\n",
        "delimiter = \", \"  # specify the delimiter\n",
        "result_string = join_strings(string_list, delimiter)\n",
        "print(\"Joined string:\", result_string)\n"
      ],
      "metadata": {
        "colab": {
          "base_uri": "https://localhost:8080/"
        },
        "id": "Pv5stIn3sP_7",
        "outputId": "d51d3d67-c681-4752-f45d-6f0341ed6503"
      },
      "execution_count": null,
      "outputs": [
        {
          "output_type": "stream",
          "name": "stdout",
          "text": [
            "Joined string: apple, banana, orange, grape\n"
          ]
        }
      ]
    },
    {
      "cell_type": "code",
      "source": [
        "def remove_element(input_list, element_to_remove):\n",
        "    return [x for x in input_list if x != element_to_remove]\n",
        "\n",
        "# Example usage:\n",
        "original_list = [1, 2, 3, 4, 2, 5, 2]\n",
        "element_to_remove = 2\n",
        "result_list = remove_element(original_list, element_to_remove)\n",
        "print(\"List after removing element:\", result_list)\n"
      ],
      "metadata": {
        "colab": {
          "base_uri": "https://localhost:8080/"
        },
        "id": "AIIPGOsatlZK",
        "outputId": "6fb50b50-32c1-4c30-f32d-dceaa38ea293"
      },
      "execution_count": null,
      "outputs": [
        {
          "output_type": "stream",
          "name": "stdout",
          "text": [
            "List after removing element: [1, 3, 4, 5]\n"
          ]
        }
      ]
    },
    {
      "cell_type": "code",
      "source": [
        "def rotate_list(input_list, k):\n",
        "    n = len(input_list)\n",
        "    k = k % n  # Ensure k is within the range of list length\n",
        "    rotated_list = input_list[-k:] + input_list[:-k]\n",
        "    return rotated_list\n",
        "\n",
        "# Example usage:\n",
        "my_list = [1, 2, 3, 4, 5]\n",
        "k = 2\n",
        "rotated_list = rotate_list(my_list, k)\n",
        "print(\"Original list:\", my_list)\n",
        "print(f\"List rotated to the right by {k} positions:\", rotated_list)\n"
      ],
      "metadata": {
        "colab": {
          "base_uri": "https://localhost:8080/"
        },
        "id": "fv9-0O4ktofG",
        "outputId": "1711aa33-35bb-4bcb-9291-379e6cbd8f35"
      },
      "execution_count": null,
      "outputs": [
        {
          "output_type": "stream",
          "name": "stdout",
          "text": [
            "Original list: [1, 2, 3, 4, 5]\n",
            "List rotated to the right by 2 positions: [4, 5, 1, 2, 3]\n"
          ]
        }
      ]
    },
    {
      "cell_type": "code",
      "source": [
        "def find_unique_elements(input_list):\n",
        "    seen = set()\n",
        "    unique_elements = []\n",
        "    for item in input_list:\n",
        "        if item not in seen:\n",
        "            unique_elements.append(item)\n",
        "            seen.add(item)\n",
        "    return unique_elements\n",
        "\n",
        "# Example usage:\n",
        "original_list = [1, 2, 3, 2, 4, 5, 1, 3, 6]\n",
        "unique_elements = find_unique_elements(original_list)\n",
        "print(\"List with unique elements:\", unique_elements)\n"
      ],
      "metadata": {
        "colab": {
          "base_uri": "https://localhost:8080/"
        },
        "id": "HqoNhF3guhbd",
        "outputId": "aa218fef-7ace-4f5c-950e-8812a44e32b3"
      },
      "execution_count": null,
      "outputs": [
        {
          "output_type": "stream",
          "name": "stdout",
          "text": [
            "List with unique elements: [1, 2, 3, 4, 5, 6]\n"
          ]
        }
      ]
    }
  ]
}