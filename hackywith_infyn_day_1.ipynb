{
  "nbformat": 4,
  "nbformat_minor": 0,
  "metadata": {
    "colab": {
      "provenance": [],
      "authorship_tag": "ABX9TyM0Fyl9CYPsOr/2cwlUQYtx",
      "include_colab_link": true
    },
    "kernelspec": {
      "name": "python3",
      "display_name": "Python 3"
    },
    "language_info": {
      "name": "python"
    }
  },
  "cells": [
    {
      "cell_type": "markdown",
      "metadata": {
        "id": "view-in-github",
        "colab_type": "text"
      },
      "source": [
        "<a href=\"https://colab.research.google.com/github/Madhurigg/FMML_ASSIGNMENTS/blob/main/hackywith_infyn_day_1.ipynb\" target=\"_parent\"><img src=\"https://colab.research.google.com/assets/colab-badge.svg\" alt=\"Open In Colab\"/></a>"
      ]
    },
    {
      "cell_type": "code",
      "execution_count": null,
      "metadata": {
        "colab": {
          "base_uri": "https://localhost:8080/"
        },
        "id": "VEl50EUT4NL6",
        "outputId": "68279f0f-c045-41bf-c71b-3307ff30c80d"
      },
      "outputs": [
        {
          "output_type": "stream",
          "name": "stdout",
          "text": [
            "0 1\n",
            "1 0\n"
          ]
        }
      ],
      "source": [
        "arr=[2,7,11,15]\n",
        "tar=9\n",
        "\n",
        "n = len(arr)\n",
        "for i in range(n):\n",
        "    pick = arr[i]\n",
        "    flag=0\n",
        "    for j in range(n):\n",
        "     if tar - pick == arr[j] and i!= j:\n",
        "      print(i,j)\n",
        "      flag=1\n",
        "      break\n",
        "      if flag:\n",
        "        break"
      ]
    },
    {
      "cell_type": "code",
      "source": [
        "n=6\n",
        "a=[7, 1, 5, 3, 6, 4]\n",
        "mx=0\n",
        "for i in range(n):\n",
        "    for j in range(i+1, n):\n",
        "     if a[i] < a[j]:\n",
        "      if mx < a[j] -a[i]:\n",
        "         mx =a[j] - a[i]\n",
        "print(mx)"
      ],
      "metadata": {
        "colab": {
          "base_uri": "https://localhost:8080/"
        },
        "id": "0YVEV5ei4eGK",
        "outputId": "f8f40fdf-0c39-4b64-92b2-361a62fe142a"
      },
      "execution_count": null,
      "outputs": [
        {
          "output_type": "stream",
          "name": "stdout",
          "text": [
            "5\n"
          ]
        }
      ]
    },
    {
      "cell_type": "code",
      "source": [
        "def can_jump(nums):\n",
        "  i=0\n",
        "  reach=0\n",
        "  while i < len(nums) and i<=reach:\n",
        "    reach=max(i+nums[i],reach)\n",
        "    i+=1\n",
        "    return i ==len(nums)\n",
        "n=5\n",
        "nums=[3,2,1,0,4]\n",
        "result=can_jump(nums)\n",
        "print(\"true\" if result else \"false\")"
      ],
      "metadata": {
        "colab": {
          "base_uri": "https://localhost:8080/"
        },
        "id": "D0fCn--Q4o8P",
        "outputId": "cdc14736-ecb4-424d-fb9b-b98001d4c78e"
      },
      "execution_count": null,
      "outputs": [
        {
          "output_type": "stream",
          "name": "stdout",
          "text": [
            "false\n"
          ]
        }
      ]
    },
    {
      "cell_type": "code",
      "source": [
        "n = 7\n",
        "a = [2,3,1,6,3,6,2]\n",
        "for i in range(n):\n",
        "  ele =a[i]\n",
        "  fl = 0\n",
        "  for j in range(n):\n",
        "    if j != i:\n",
        "      if a[i] == a[j]:\n",
        "        fl += 1\n",
        "  if fl == 0:\n",
        "    print(ele)\n",
        "    break"
      ],
      "metadata": {
        "colab": {
          "base_uri": "https://localhost:8080/"
        },
        "id": "-0VNt-Pj4wDM",
        "outputId": "7822b5f6-787d-434e-89ff-1741fb2ff0f7"
      },
      "execution_count": null,
      "outputs": [
        {
          "output_type": "stream",
          "name": "stdout",
          "text": [
            "1\n"
          ]
        }
      ]
    },
    {
      "cell_type": "code",
      "source": [
        "def rotate_array(nums,k):\n",
        "  n = len(nums)\n",
        "  k %= n\n",
        "  nums.reverse()\n",
        "  nums[:k] = reversed(nums[:k])\n",
        "  nums[k:] = reversed(nums[k:])\n",
        "n=7\n",
        "nums = [1, 2, 3, 4, 5, 6, 7]\n",
        "k = 3\n",
        "rotate_array(nums,k)\n",
        "print(*nums)"
      ],
      "metadata": {
        "colab": {
          "base_uri": "https://localhost:8080/"
        },
        "id": "3Ls4Y20F5Jjy",
        "outputId": "e7e624cd-7e04-4910-81c3-73a5f34715fc"
      },
      "execution_count": null,
      "outputs": [
        {
          "output_type": "stream",
          "name": "stdout",
          "text": [
            "5 6 7 1 2 3 4\n"
          ]
        }
      ]
    },
    {
      "cell_type": "code",
      "source": [
        "n = 7\n",
        "a = [2,3,1,6,3,6,2]\n",
        "for i in range(n):\n",
        "  ele =a[i]\n",
        "  fl = 0\n",
        "  for j in range(n):\n",
        "    if j != i:\n",
        "      if a[i] == a[j]:\n",
        "        fl += 1\n",
        "  if fl == 0:\n",
        "    print(ele)\n",
        "    break"
      ],
      "metadata": {
        "colab": {
          "base_uri": "https://localhost:8080/"
        },
        "id": "z-9ME8p-5RUK",
        "outputId": "b930f1ef-40db-416f-95ba-b64e50daa441"
      },
      "execution_count": null,
      "outputs": [
        {
          "output_type": "stream",
          "name": "stdout",
          "text": [
            "1\n"
          ]
        }
      ]
    },
    {
      "cell_type": "code",
      "source": [
        "def trap(height):\n",
        "    n = len(height)\n",
        "    left_max = [0] * n\n",
        "    right_max = [0] * n\n",
        "\n",
        "    left_max[0] = height[0]\n",
        "    for i in range(1, n):\n",
        "        left_max[i] = max(left_max[i-1], height[i])\n",
        "\n",
        "    right_max[n-1] = height[n-1]\n",
        "    for i in range(n-2, -1, -1):\n",
        "        right_max[i] = max(right_max[i+1], height[i])\n",
        "\n",
        "    trapped_water = 0\n",
        "    for i in range(n):\n",
        "        trapped_water += max(0, min(left_max[i], right_max[i]) - height[i])\n",
        "\n",
        "    return trapped_water\n",
        "height = [0, 1, 0, 2, 1, 0, 1, 3, 2, 1, 2, 1]\n",
        "result = trap(height)\n",
        "print(result)"
      ],
      "metadata": {
        "colab": {
          "base_uri": "https://localhost:8080/"
        },
        "id": "UzunqEcL5h7v",
        "outputId": "df806e4e-fc10-4a31-ef93-b756c1973d0f"
      },
      "execution_count": null,
      "outputs": [
        {
          "output_type": "stream",
          "name": "stdout",
          "text": [
            "6\n"
          ]
        }
      ]
    },
    {
      "cell_type": "markdown",
      "source": [],
      "metadata": {
        "id": "mkSleeQu4dX3"
      }
    }
  ]
}