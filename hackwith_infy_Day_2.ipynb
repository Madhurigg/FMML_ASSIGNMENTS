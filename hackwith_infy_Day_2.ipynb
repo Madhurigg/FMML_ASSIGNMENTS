{
  "nbformat": 4,
  "nbformat_minor": 0,
  "metadata": {
    "colab": {
      "provenance": [],
      "authorship_tag": "ABX9TyPUI30YlLgRBbFKS4r0XxxE",
      "include_colab_link": true
    },
    "kernelspec": {
      "name": "python3",
      "display_name": "Python 3"
    },
    "language_info": {
      "name": "python"
    }
  },
  "cells": [
    {
      "cell_type": "markdown",
      "metadata": {
        "id": "view-in-github",
        "colab_type": "text"
      },
      "source": [
        "<a href=\"https://colab.research.google.com/github/Madhurigg/FMML_ASSIGNMENTS/blob/main/hackwith_infy_Day_2.ipynb\" target=\"_parent\"><img src=\"https://colab.research.google.com/assets/colab-badge.svg\" alt=\"Open In Colab\"/></a>"
      ]
    },
    {
      "cell_type": "code",
      "execution_count": null,
      "metadata": {
        "id": "L7uld9oAUXDC"
      },
      "outputs": [],
      "source": []
    },
    {
      "cell_type": "markdown",
      "source": [
        "# **Distribution of candidate\n",
        "\n",
        "> Add blockquote\n",
        "\n"
      ],
      "metadata": {
        "id": "NTja9cMtb0IN"
      }
    },
    {
      "cell_type": "code",
      "source": [
        "def min_candies(arr):\n",
        "\n",
        "    n = len(arr)\n",
        "\n",
        "    dp = [1] * n\n",
        "\n",
        "\n",
        "    # Traverse from left to right\n",
        "\n",
        "    for i in range(1, n):\n",
        "\n",
        "        if arr[i] > arr[i-1]:\n",
        "\n",
        "            dp[i] = dp[i-1] + 1\n",
        "\n",
        "\n",
        "    # Traverse from right to left\n",
        "\n",
        "    for i in range(n-2, -1, -1):\n",
        "\n",
        "        if arr[i] > arr[i+1]:\n",
        "\n",
        "            dp[i] = max(dp[i], dp[i+1] + 1)\n",
        "\n",
        "\n",
        "    # Compute the total number of candies\n",
        "\n",
        "    total_candies = sum(dp)\n",
        "\n",
        "\n",
        "    # Return the total number of candieszx\n",
        "\n",
        "    return total_candies\n",
        "\n",
        "# Example input\n",
        "\n",
        "arr = [1, 0, 2]\n",
        "\n",
        "# Call the function\n",
        "\n",
        "result = min_candies(arr)\n",
        "\n",
        "# Print the result\n",
        "\n",
        "print(result)\n"
      ],
      "metadata": {
        "colab": {
          "base_uri": "https://localhost:8080/"
        },
        "id": "g5fWweAycBnv",
        "outputId": "826aca10-50ec-4a94-e793-35e890b0f810"
      },
      "execution_count": null,
      "outputs": [
        {
          "output_type": "stream",
          "name": "stdout",
          "text": [
            "5\n"
          ]
        }
      ]
    },
    {
      "cell_type": "markdown",
      "source": [
        "# Gas station"
      ],
      "metadata": {
        "id": "mQ0-H1vtuXZN"
      }
    },
    {
      "cell_type": "code",
      "source": [
        "def can_complete_circuit(gas,cost):\n",
        "  position = 0\n",
        "  sum_ = 0\n",
        "  total = 0\n",
        "\n",
        "  for index in range(len(gas)):\n",
        "    sum_ += gas[index] - cost[index]\n",
        "\n",
        "    if sum_ < 0:\n",
        "      total += sum_\n",
        "      sum_ = 0\n",
        "      position = index + 1\n",
        "\n",
        "  total += sum_\n",
        "\n",
        "  return position if total>=0 else-1\n",
        "gas = [1,2,3,4,5]\n",
        "cost = [3,4,5,1,2]\n",
        "print(can_complete_circuit(gas,cost))\n",
        "\n"
      ],
      "metadata": {
        "colab": {
          "base_uri": "https://localhost:8080/"
        },
        "id": "yhvzUr14upnI",
        "outputId": "dd3005e3-094a-4f2f-c872-4aca8d9e8e71"
      },
      "execution_count": null,
      "outputs": [
        {
          "output_type": "stream",
          "name": "stdout",
          "text": [
            "3\n"
          ]
        }
      ]
    },
    {
      "cell_type": "markdown",
      "source": [
        "# Swapping two *numbers*"
      ],
      "metadata": {
        "id": "tPxnvyf41avz"
      }
    },
    {
      "cell_type": "code",
      "source": [
        "def maximumSwap(num):\n",
        "    num_str = str(num)\n",
        "    max_num = num_str\n",
        "    for i in range(len(num_str)):\n",
        "        for j in range(i + 1, len(num_str)):\n",
        "            swapped_num_str = num_str[:i] + num_str[j] + num_str[i+1:j] + num_str[i] + num_str[j+1:]\n",
        "            max_num = max(max_num, swapped_num_str)\n",
        "    return int(max_num)\n",
        "\n",
        "# Dynamic input\n",
        "num = int(input(\"Enter an integer: \"))\n",
        "print(\"Maximum valued number:\", maximumSwap(num))\n",
        "\n"
      ],
      "metadata": {
        "colab": {
          "base_uri": "https://localhost:8080/"
        },
        "id": "ndHBJz9v1ojm",
        "outputId": "369534b8-9e92-402b-988e-7a9eb56e9abe"
      },
      "execution_count": null,
      "outputs": [
        {
          "output_type": "stream",
          "name": "stdout",
          "text": [
            "Enter an integer: 5\n",
            "Maximum valued number: 5\n"
          ]
        }
      ]
    },
    {
      "cell_type": "markdown",
      "source": [
        "#Flower bed"
      ],
      "metadata": {
        "id": "kmqctrP6488Y"
      }
    },
    {
      "cell_type": "code",
      "source": [
        "def can_place_flowers(flowerbed,n):\n",
        "    if n== 0:\n",
        "        return True\n",
        "    for i in range(len(flowerbed)):\n",
        "        if flowerbed[i] == 0 and (i==0 or flowerbed[i-1]==0) and (i==len(flowerbed)-1 or flowerbed[i+1]==0):\n",
        "            flowerbed[i]=1\n",
        "            if n-1 == 0:\n",
        "                return True\n",
        "            n -= 1\n",
        "    return False\n",
        "\n",
        "flowerbed = [1, 0, 0, 0, 1]\n",
        "n1 = 1\n",
        "print(can_place_flowers(flowerbed, n1))\n",
        "\n"
      ],
      "metadata": {
        "id": "66kax46-5Tk4",
        "colab": {
          "base_uri": "https://localhost:8080/"
        },
        "outputId": "1033d332-687d-42d8-97d7-99542930b1cc"
      },
      "execution_count": 1,
      "outputs": [
        {
          "output_type": "stream",
          "name": "stdout",
          "text": [
            "True\n"
          ]
        }
      ]
    },
    {
      "cell_type": "markdown",
      "source": [
        "# Replacing"
      ],
      "metadata": {
        "id": "kZGkJf8VYAuI"
      }
    },
    {
      "cell_type": "code",
      "source": [
        "\n",
        "st=\"satya\"\n",
        "a,r='a','t'\n",
        "out=\"\"\n",
        "for i in range(len(st)):\n",
        "    if st[i]==a:\n",
        "      out+=r\n",
        "    else:\n",
        "        out+=st[i]\n",
        "print(out)\n"
      ],
      "metadata": {
        "colab": {
          "base_uri": "https://localhost:8080/"
        },
        "id": "28YUqmkpYoqc",
        "outputId": "4ee63a8a-ec0e-43f4-fb2c-c25ca6dc4b33"
      },
      "execution_count": 9,
      "outputs": [
        {
          "output_type": "stream",
          "name": "stdout",
          "text": [
            "sttyt\n"
          ]
        }
      ]
    },
    {
      "cell_type": "markdown",
      "source": [
        "# prime Numbers"
      ],
      "metadata": {
        "id": "9aATuiDWcfef"
      }
    },
    {
      "cell_type": "code",
      "source": [
        "def is_prime(n):\n",
        "    if n <= 1:\n",
        "        return False\n",
        "    for i in range(2, int(n**0.5) + 1):\n",
        "        if n % i == 0:\n",
        "            return False\n",
        "    return True\n",
        "number = 25\n",
        "if is_prime(number):\n",
        "    print(f\"{number} is a prime number.\")\n",
        "else:\n",
        "    print(f\"{number} is not a prime number.\")\n"
      ],
      "metadata": {
        "colab": {
          "base_uri": "https://localhost:8080/"
        },
        "id": "sSIVw64PctXs",
        "outputId": "ef62f4f4-c010-45c9-a188-488e0243fdbd"
      },
      "execution_count": 10,
      "outputs": [
        {
          "output_type": "stream",
          "name": "stdout",
          "text": [
            "25 is not a prime number.\n"
          ]
        }
      ]
    },
    {
      "cell_type": "markdown",
      "source": [
        "# Armstrong Number"
      ],
      "metadata": {
        "id": "3_ntVIzVdcVg"
      }
    },
    {
      "cell_type": "code",
      "source": [
        "def is_armstrong(num):\n",
        "\n",
        "    num_str = str(num)\n",
        "    num_digits = len(num_str)\n",
        "    armstrong_sum = sum(int(digit)**num_digits for digit in num_str)\n",
        "\n",
        "\n",
        "    return armstrong_sum == num\n",
        "\n",
        "number = int(input(\"Enter a number to check if it's an Armstrong number: \"))\n",
        "if is_armstrong(number):\n",
        "    print(number, \"is an Armstrong number.\")\n",
        "else:\n",
        "    print(number, \"is not an Armstrong number.\")\n",
        "\n",
        "\n"
      ],
      "metadata": {
        "colab": {
          "base_uri": "https://localhost:8080/"
        },
        "id": "hqnJjzoNd5AV",
        "outputId": "693916b5-3c32-46fc-83d9-e66210194040"
      },
      "execution_count": 12,
      "outputs": [
        {
          "output_type": "stream",
          "name": "stdout",
          "text": [
            "Enter a number to check if it's an Armstrong number: 93\n",
            "93 is not an Armstrong number.\n"
          ]
        }
      ]
    },
    {
      "cell_type": "markdown",
      "source": [
        "# String **Reverse**"
      ],
      "metadata": {
        "id": "WkymZE6agP0Q"
      }
    },
    {
      "cell_type": "code",
      "source": [
        "def reverse_string(string):\n",
        "    reversed_string = string[::-1]\n",
        "    return reversed_string\n",
        "input_string = input(\"Enter a string to reverse: \")\n",
        "reversed_str = reverse_string(input_string)\n",
        "print(\"Reversed string:\", reversed_str)\n"
      ],
      "metadata": {
        "colab": {
          "base_uri": "https://localhost:8080/"
        },
        "id": "k7kW45_9gWWk",
        "outputId": "a50d3d97-26e8-4a8e-e57d-b2bc753eb681"
      },
      "execution_count": 13,
      "outputs": [
        {
          "output_type": "stream",
          "name": "stdout",
          "text": [
            "Enter a string to reverse: madhuri\n",
            "Reversed string: iruhdam\n"
          ]
        }
      ]
    },
    {
      "cell_type": "markdown",
      "source": [
        "# Factorial Number"
      ],
      "metadata": {
        "id": "ru6AgpnKkSVL"
      }
    },
    {
      "cell_type": "code",
      "source": [
        "def factorial(n):\n",
        "    if n == 0:\n",
        "        return 1\n",
        "    else:\n",
        "        return n * factorial(n-1)\n",
        "number = int(input(\"Enter a number to find its factorial: \"))\n",
        "if number < 0:\n",
        "    print(\"Factorial is not defined for negative numbers.\")\n",
        "else:\n",
        "    print(\"Factorial of\", number, \"is\", factorial(number))\n"
      ],
      "metadata": {
        "colab": {
          "base_uri": "https://localhost:8080/"
        },
        "id": "6XEwoovgkspE",
        "outputId": "b4e717af-06d7-430a-b52f-a9eb9583ca30"
      },
      "execution_count": 15,
      "outputs": [
        {
          "output_type": "stream",
          "name": "stdout",
          "text": [
            "Enter a number to find its factorial: 6\n",
            "Factorial of 6 is 720\n"
          ]
        }
      ]
    },
    {
      "cell_type": "markdown",
      "source": [
        "# Fibanoc Seqauence"
      ],
      "metadata": {
        "id": "d61qZRIok7Rj"
      }
    },
    {
      "cell_type": "code",
      "source": [
        "def fibonacci(n):\n",
        "    fib_seq = []\n",
        "    a, b = 0, 1\n",
        "    for _ in range(n):\n",
        "        fib_seq.append(a)\n",
        "        a, b = b, a + b\n",
        "    return fib_seq\n",
        "num_terms = int(input(\"Enter the number of terms in Fibonacci sequence: \"))\n",
        "if num_terms <= 0:\n",
        "    print(\"Number of terms should be positive.\")\n",
        "else:\n",
        "    fib_sequence = fibonacci(num_terms)\n",
        "    print(\"Fibonacci sequence up to\", num_terms, \"terms:\", fib_sequence)\n",
        "\n"
      ],
      "metadata": {
        "colab": {
          "base_uri": "https://localhost:8080/"
        },
        "id": "Dt1Dc9yrlPob",
        "outputId": "97b6fab2-e8d2-4dbf-9183-493a6561709b"
      },
      "execution_count": 16,
      "outputs": [
        {
          "output_type": "stream",
          "name": "stdout",
          "text": [
            "Enter the number of terms in Fibonacci sequence: 16\n",
            "Fibonacci sequence up to 16 terms: [0, 1, 1, 2, 3, 5, 8, 13, 21, 34, 55, 89, 144, 233, 377, 610]\n"
          ]
        }
      ]
    },
    {
      "cell_type": "markdown",
      "source": [
        "# Minimum length words from input string"
      ],
      "metadata": {
        "id": "tHEWCffbo5uM"
      }
    },
    {
      "cell_type": "code",
      "source": [
        "input_string =\"this is mine\"\n",
        "words = input_string.split()\n",
        "min_length_word = min(words,key=len)\n",
        "print(min_length_word)"
      ],
      "metadata": {
        "colab": {
          "base_uri": "https://localhost:8080/"
        },
        "id": "qUwAh1RvpM1W",
        "outputId": "5cdf474b-024e-4eb4-e147-62271ff7bf6f"
      },
      "execution_count": 17,
      "outputs": [
        {
          "output_type": "stream",
          "name": "stdout",
          "text": [
            "is\n"
          ]
        }
      ]
    },
    {
      "cell_type": "markdown",
      "source": [
        "## Palindrome"
      ],
      "metadata": {
        "id": "OfQeBagRpfUL"
      }
    },
    {
      "cell_type": "code",
      "source": [
        "def is_palindrome (s):\n",
        "    s = s.replace(\" \", \"\").lower()\n",
        "    return s == s[::-1]\n",
        "word = \"radar\"\n",
        "if is_palindrome(word):\n",
        "    print(f\"{word} is a palindrome.\")\n",
        "else:\n",
        "    print(f\"{word} is not a palindrome.\")\n"
      ],
      "metadata": {
        "colab": {
          "base_uri": "https://localhost:8080/"
        },
        "id": "O6Z4qq34pozm",
        "outputId": "9be59e97-7535-47e3-a705-b27f08f68f8e"
      },
      "execution_count": 18,
      "outputs": [
        {
          "output_type": "stream",
          "name": "stdout",
          "text": [
            "radar is a palindrome.\n"
          ]
        }
      ]
    },
    {
      "cell_type": "markdown",
      "source": [
        "# PanaGram"
      ],
      "metadata": {
        "id": "jcuxdSDzqzur"
      }
    },
    {
      "cell_type": "code",
      "source": [
        "\n",
        "\n",
        "def is_panagram(string):\n",
        "  \"\"\"\n",
        "  Checks if a given string is a pangram, i.e., it contains all the letters of the alphabet.\n",
        "\n",
        "  Args:\n",
        "    string: The string to check.\n",
        "\n",
        "  Returns:\n",
        "    True if the string is a pangram, False otherwise.\n",
        "  \"\"\"\n",
        "  string = string.lower().replace(\" \", \"\")\n",
        "  alphabet = set(\"abcdefghijklmnopqrstuvwxyz\")\n",
        "  return alphabet.issubset(string)\n",
        "string = input(\"Enter a string: \")\n",
        "if is_panagram(string):\n",
        "  print(\"The string is a pangram.\")\n",
        "else:\n",
        "  print(\"The string is not a pangram.\")\n"
      ],
      "metadata": {
        "colab": {
          "base_uri": "https://localhost:8080/"
        },
        "id": "ckUbKztXsaXm",
        "outputId": "e102351b-61f5-4da6-b1fe-773921460e27"
      },
      "execution_count": 21,
      "outputs": [
        {
          "output_type": "stream",
          "name": "stdout",
          "text": [
            "Enter a string: a\n",
            "The string is not a pangram.\n"
          ]
        }
      ]
    }
  ]
}